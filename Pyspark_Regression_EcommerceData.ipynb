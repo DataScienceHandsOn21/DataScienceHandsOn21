{
  "nbformat": 4,
  "nbformat_minor": 0,
  "metadata": {
    "colab": {
      "name": "Pyspark_EDA.ipynb",
      "provenance": [],
      "collapsed_sections": [],
      "authorship_tag": "ABX9TyOy0yDgNrvkzL18gK3hLi2s",
      "include_colab_link": true
    },
    "kernelspec": {
      "name": "python3",
      "display_name": "Python 3"
    },
    "language_info": {
      "name": "python"
    }
  },
  "cells": [
    {
      "cell_type": "markdown",
      "metadata": {
        "id": "view-in-github",
        "colab_type": "text"
      },
      "source": [
        "<a href=\"https://colab.research.google.com/github/DataScienceHandsOn21/DataScienceHandsOn21/blob/main/Pyspark_Regression_EcommerceData.ipynb\" target=\"_parent\"><img src=\"https://colab.research.google.com/assets/colab-badge.svg\" alt=\"Open In Colab\"/></a>"
      ]
    },
    {
      "cell_type": "code",
      "execution_count": 1,
      "metadata": {
        "colab": {
          "base_uri": "https://localhost:8080/"
        },
        "id": "08nvQuYbDi4G",
        "outputId": "663446c5-e4d9-48a1-d6a2-df8873f9f64c"
      },
      "outputs": [
        {
          "output_type": "stream",
          "name": "stdout",
          "text": [
            "Looking in indexes: https://pypi.org/simple, https://us-python.pkg.dev/colab-wheels/public/simple/\n",
            "Collecting pyspark\n",
            "  Downloading pyspark-3.2.1.tar.gz (281.4 MB)\n",
            "\u001b[K     |████████████████████████████████| 281.4 MB 31 kB/s \n",
            "\u001b[?25hCollecting py4j==0.10.9.3\n",
            "  Downloading py4j-0.10.9.3-py2.py3-none-any.whl (198 kB)\n",
            "\u001b[K     |████████████████████████████████| 198 kB 52.2 MB/s \n",
            "\u001b[?25hBuilding wheels for collected packages: pyspark\n",
            "  Building wheel for pyspark (setup.py) ... \u001b[?25l\u001b[?25hdone\n",
            "  Created wheel for pyspark: filename=pyspark-3.2.1-py2.py3-none-any.whl size=281853642 sha256=2757882e1439e5665735a6ffe0f5aaaaae6204579bdef81a4fd12f075177552e\n",
            "  Stored in directory: /root/.cache/pip/wheels/9f/f5/07/7cd8017084dce4e93e84e92efd1e1d5334db05f2e83bcef74f\n",
            "Successfully built pyspark\n",
            "Installing collected packages: py4j, pyspark\n",
            "Successfully installed py4j-0.10.9.3 pyspark-3.2.1\n"
          ]
        }
      ],
      "source": [
        "!pip install pyspark\n"
      ]
    },
    {
      "cell_type": "code",
      "metadata": {
        "id": "UtnMWUjZtm4Y",
        "outputId": "68f31055-6da9-4ad5-ef6d-f740ee0a6eef",
        "colab": {
          "base_uri": "https://localhost:8080/"
        }
      },
      "source": [
        "from google.colab import drive \n",
        "drive.mount('/content/gdrive')"
      ],
      "execution_count": 3,
      "outputs": [
        {
          "output_type": "stream",
          "name": "stdout",
          "text": [
            "Mounted at /content/gdrive\n"
          ]
        }
      ]
    },
    {
      "cell_type": "code",
      "metadata": {
        "id": "8z4WMH-ZuWpc"
      },
      "source": [
        "path = '/content/Ecommerce_Customers.csv'"
      ],
      "execution_count": 19,
      "outputs": []
    },
    {
      "cell_type": "code",
      "metadata": {
        "id": "OI0UJBMxR2NE"
      },
      "source": [
        "df = spark.read.csv(path=path,\n",
        "                    sep=',',encoding='UTF-8',comment=None,\n",
        "                    header=True,inferSchema=True)"
      ],
      "execution_count": 20,
      "outputs": []
    },
    {
      "cell_type": "code",
      "source": [
        "df.show(8)"
      ],
      "metadata": {
        "colab": {
          "base_uri": "https://localhost:8080/"
        },
        "id": "lCuZTpx0SE5l",
        "outputId": "bf7d27c9-d1d6-425f-c831-a2d68e83aadd"
      },
      "execution_count": 23,
      "outputs": [
        {
          "output_type": "stream",
          "name": "stdout",
          "text": [
            "+--------------------+--------------------+------------------+-----------+---------------+--------------------+-------------------+\n",
            "|               Email|             Address|Avg Session Length|Time on App|Time on Website|Length of Membership|Yearly Amount Spent|\n",
            "+--------------------+--------------------+------------------+-----------+---------------+--------------------+-------------------+\n",
            "|mstephenson@ferna...|835 Frank TunnelW...|       34.49726773|12.65565115|    39.57766802|         4.082620633|         587.951054|\n",
            "|   hduke@hotmail.com|4547 Archer Commo...|       31.92627203|11.10946073|    37.26895887|         2.664034182|        392.2049334|\n",
            "|    pallen@yahoo.com|24645 Valerie Uni...|       33.00091476|11.33027806|    37.11059744|         4.104543202|        487.5475049|\n",
            "|riverarebecca@gma...|1414 David Throug...|       34.30555663|13.71751367|    36.72128268|         3.120178783|         581.852344|\n",
            "|mstephens@davidso...|14023 Rodriguez P...|       33.33067252|12.79518855|     37.5366533|         4.446308318|         599.406092|\n",
            "|alvareznancy@luca...|645 Martha Park A...|       33.87103788|12.02692534|    34.47687763|         5.493507201|        637.1024479|\n",
            "|katherine20@yahoo...|68388 Reyes Light...|        32.0215955|11.36634831|    36.68377615|         4.685017247|        521.5721748|\n",
            "|  awatkins@yahoo.com|Unit 6538 Box 898...|       32.73914294|12.35195897|    37.37335886|         4.434273435|        549.9041461|\n",
            "+--------------------+--------------------+------------------+-----------+---------------+--------------------+-------------------+\n",
            "only showing top 8 rows\n",
            "\n"
          ]
        }
      ]
    },
    {
      "cell_type": "code",
      "source": [
        "df.printSchema()"
      ],
      "metadata": {
        "colab": {
          "base_uri": "https://localhost:8080/"
        },
        "id": "ZXIvk0tTSFQ4",
        "outputId": "abea1471-0413-46a3-9021-b658c9e39839"
      },
      "execution_count": 26,
      "outputs": [
        {
          "output_type": "stream",
          "name": "stdout",
          "text": [
            "root\n",
            " |-- Email: string (nullable = true)\n",
            " |-- Address: string (nullable = true)\n",
            " |-- Avg Session Length: double (nullable = true)\n",
            " |-- Time on App: double (nullable = true)\n",
            " |-- Time on Website: double (nullable = true)\n",
            " |-- Length of Membership: double (nullable = true)\n",
            " |-- Yearly Amount Spent: double (nullable = true)\n",
            "\n"
          ]
        }
      ]
    },
    {
      "cell_type": "code",
      "source": [
        "#Data Columns\n",
        "df.columns"
      ],
      "metadata": {
        "colab": {
          "base_uri": "https://localhost:8080/"
        },
        "id": "keRYHr3FFcef",
        "outputId": "f491cb0e-ae18-4680-d79b-863eb483eb72"
      },
      "execution_count": 27,
      "outputs": [
        {
          "output_type": "execute_result",
          "data": {
            "text/plain": [
              "['Email',\n",
              " 'Address',\n",
              " 'Avg Session Length',\n",
              " 'Time on App',\n",
              " 'Time on Website',\n",
              " 'Length of Membership',\n",
              " 'Yearly Amount Spent']"
            ]
          },
          "metadata": {},
          "execution_count": 27
        }
      ]
    },
    {
      "cell_type": "code",
      "source": [
        "#Total Number of Records/Rows\n",
        "df.count()"
      ],
      "metadata": {
        "colab": {
          "base_uri": "https://localhost:8080/"
        },
        "id": "Z6xFOGlkTJVw",
        "outputId": "d7f6142c-6d63-422c-f786-95fbda8919fd"
      },
      "execution_count": 29,
      "outputs": [
        {
          "output_type": "execute_result",
          "data": {
            "text/plain": [
              "500"
            ]
          },
          "metadata": {},
          "execution_count": 29
        }
      ]
    },
    {
      "cell_type": "code",
      "source": [
        "#Statistical Summary\n",
        "df.describe().show()"
      ],
      "metadata": {
        "colab": {
          "base_uri": "https://localhost:8080/"
        },
        "id": "Q2XP7mlyTAjN",
        "outputId": "b8d091e3-02ab-4d7c-a4f6-fb23f4d660e5"
      },
      "execution_count": 32,
      "outputs": [
        {
          "output_type": "stream",
          "name": "stdout",
          "text": [
            "+-------+-----------------+--------------------+------------------+------------------+------------------+--------------------+-------------------+\n",
            "|summary|            Email|             Address|Avg Session Length|       Time on App|   Time on Website|Length of Membership|Yearly Amount Spent|\n",
            "+-------+-----------------+--------------------+------------------+------------------+------------------+--------------------+-------------------+\n",
            "|  count|              500|                 500|               500|               500|               500|                 500|                500|\n",
            "|   mean|             null|                null|    33.05319351824|12.052487936928012|37.060445421080004|  3.5334615559300007|  499.3140382608002|\n",
            "| stddev|             null|                null|0.9925631111602911|0.9942156084624618|1.0104889068105993|  0.9992775024367542|  79.31478155115914|\n",
            "|    min|aaron04@yahoo.com|0001 Mack MillNor...|       29.53242897|       8.508152176|       33.91384725|          0.26990109|        256.6705823|\n",
            "|    max|zscott@wright.com|Unit 7502 Box 834...|       36.13966249|       15.12699429|       40.00518164|         6.922689335|        765.5184619|\n",
            "+-------+-----------------+--------------------+------------------+------------------+------------------+--------------------+-------------------+\n",
            "\n"
          ]
        }
      ]
    },
    {
      "cell_type": "code",
      "source": [
        "#Creating Model and importing the utilities\n",
        "from pyspark.ml.linalg import Vectors\n",
        "from pyspark.ml.feature import VectorAssembler"
      ],
      "metadata": {
        "id": "vLzDl_IQa8P0"
      },
      "execution_count": 33,
      "outputs": []
    },
    {
      "cell_type": "code",
      "source": [
        "#Creating Feature Assembler\n",
        "independent_features =VectorAssembler(inputCols=[\"Avg Session Length\", \"Time on App\", \"Time on Website\", \"Length of Membership\"], outputCol=\"Independent Features\")"
      ],
      "metadata": {
        "id": "5Z5j0q6jclps"
      },
      "execution_count": 34,
      "outputs": []
    },
    {
      "cell_type": "code",
      "source": [
        "output = independent_features.transform(df)"
      ],
      "metadata": {
        "id": "rMrAaVNYfJ5l"
      },
      "execution_count": 35,
      "outputs": []
    },
    {
      "cell_type": "code",
      "source": [
        "output.show()"
      ],
      "metadata": {
        "colab": {
          "base_uri": "https://localhost:8080/"
        },
        "id": "rbiBV_ZPfkYF",
        "outputId": "e83cb7ac-e86b-49b4-8e14-84f57d158286"
      },
      "execution_count": 36,
      "outputs": [
        {
          "output_type": "stream",
          "name": "stdout",
          "text": [
            "+--------------------+--------------------+------------------+-----------+---------------+--------------------+-------------------+--------------------+\n",
            "|               Email|             Address|Avg Session Length|Time on App|Time on Website|Length of Membership|Yearly Amount Spent|Independent Features|\n",
            "+--------------------+--------------------+------------------+-----------+---------------+--------------------+-------------------+--------------------+\n",
            "|mstephenson@ferna...|835 Frank TunnelW...|       34.49726773|12.65565115|    39.57766802|         4.082620633|         587.951054|[34.49726773,12.6...|\n",
            "|   hduke@hotmail.com|4547 Archer Commo...|       31.92627203|11.10946073|    37.26895887|         2.664034182|        392.2049334|[31.92627203,11.1...|\n",
            "|    pallen@yahoo.com|24645 Valerie Uni...|       33.00091476|11.33027806|    37.11059744|         4.104543202|        487.5475049|[33.00091476,11.3...|\n",
            "|riverarebecca@gma...|1414 David Throug...|       34.30555663|13.71751367|    36.72128268|         3.120178783|         581.852344|[34.30555663,13.7...|\n",
            "|mstephens@davidso...|14023 Rodriguez P...|       33.33067252|12.79518855|     37.5366533|         4.446308318|         599.406092|[33.33067252,12.7...|\n",
            "|alvareznancy@luca...|645 Martha Park A...|       33.87103788|12.02692534|    34.47687763|         5.493507201|        637.1024479|[33.87103788,12.0...|\n",
            "|katherine20@yahoo...|68388 Reyes Light...|        32.0215955|11.36634831|    36.68377615|         4.685017247|        521.5721748|[32.0215955,11.36...|\n",
            "|  awatkins@yahoo.com|Unit 6538 Box 898...|       32.73914294|12.35195897|    37.37335886|         4.434273435|        549.9041461|[32.73914294,12.3...|\n",
            "|vchurch@walter-ma...|860 Lee KeyWest D...|        33.9877729|13.38623528|    37.53449734|         3.273433578|         570.200409|[33.9877729,13.38...|\n",
            "|    bonnie69@lin.biz|PSC 2734, Box 525...|       31.93654862|11.81412829|    37.14516822|         3.202806072|        427.1993849|[31.93654862,11.8...|\n",
            "|andrew06@peterson...|26104 Alexander G...|       33.99257277|13.33897545|    37.22580613|         2.482607771|        492.6060127|[33.99257277,13.3...|\n",
            "|ryanwerner@freema...|Unit 2413 Box 034...|       33.87936082|  11.584783|    37.08792607|         3.713209203|        522.3374046|[33.87936082,11.5...|\n",
            "|   knelson@gmail.com|6705 Miller Orcha...|       29.53242897| 10.9612984|    37.42021558|         4.046423164|        408.6403511|[29.53242897,10.9...|\n",
            "|wrightpeter@yahoo...|05302 Dunlap Ferr...|       33.19033404|12.95922609|     36.1446667|         3.918541839|        573.4158673|[33.19033404,12.9...|\n",
            "|taylormason@gmail...|7773 Powell Sprin...|       32.38797585|13.14872569|    36.61995708|         2.494543647|        470.4527333|[32.38797585,13.1...|\n",
            "| jstark@anderson.com|49558 Ramirez Roa...|       30.73772037|12.63660605|    36.21376309|         3.357846842|        461.7807422|[30.73772037,12.6...|\n",
            "| wjennings@gmail.com|6362 Wilson Mount...|        32.1253869|11.73386169|    34.89409275|         3.136132716|        457.8476959|[32.1253869,11.73...|\n",
            "|rebecca45@hale-ba...|8982 Burton RowWi...|       32.33889932|12.01319469|    38.38513659|         2.420806161|        407.7045475|[32.33889932,12.0...|\n",
            "|alejandro75@hotma...|64475 Andre Club ...|       32.18781205|14.71538754|    38.24411459|         1.516575581|        452.3156755|[32.18781205,14.7...|\n",
            "|samuel46@love-wes...|544 Alexander Hei...|       32.61785606|13.98959256|     37.1905038|          4.06454855|        605.0610388|[32.61785606,13.9...|\n",
            "+--------------------+--------------------+------------------+-----------+---------------+--------------------+-------------------+--------------------+\n",
            "only showing top 20 rows\n",
            "\n"
          ]
        }
      ]
    },
    {
      "cell_type": "code",
      "source": [
        "#Showing Independent Feature\n",
        "output.select(\"Independent Features\").show()"
      ],
      "metadata": {
        "colab": {
          "base_uri": "https://localhost:8080/"
        },
        "id": "2oI50r3_fmN-",
        "outputId": "bdfc826a-96ff-46e8-e795-10e016976ec2"
      },
      "execution_count": 37,
      "outputs": [
        {
          "output_type": "stream",
          "name": "stdout",
          "text": [
            "+--------------------+\n",
            "|Independent Features|\n",
            "+--------------------+\n",
            "|[34.49726773,12.6...|\n",
            "|[31.92627203,11.1...|\n",
            "|[33.00091476,11.3...|\n",
            "|[34.30555663,13.7...|\n",
            "|[33.33067252,12.7...|\n",
            "|[33.87103788,12.0...|\n",
            "|[32.0215955,11.36...|\n",
            "|[32.73914294,12.3...|\n",
            "|[33.9877729,13.38...|\n",
            "|[31.93654862,11.8...|\n",
            "|[33.99257277,13.3...|\n",
            "|[33.87936082,11.5...|\n",
            "|[29.53242897,10.9...|\n",
            "|[33.19033404,12.9...|\n",
            "|[32.38797585,13.1...|\n",
            "|[30.73772037,12.6...|\n",
            "|[32.1253869,11.73...|\n",
            "|[32.33889932,12.0...|\n",
            "|[32.18781205,14.7...|\n",
            "|[32.61785606,13.9...|\n",
            "+--------------------+\n",
            "only showing top 20 rows\n",
            "\n"
          ]
        }
      ]
    },
    {
      "cell_type": "code",
      "source": [
        "final_df = output.select(\"Independent Features\", \"Yearly Amount Spent\")"
      ],
      "metadata": {
        "id": "R0TFhAo4f8Gw"
      },
      "execution_count": 39,
      "outputs": []
    },
    {
      "cell_type": "code",
      "source": [
        "final_df.show()"
      ],
      "metadata": {
        "colab": {
          "base_uri": "https://localhost:8080/"
        },
        "id": "qce4kxqdgRh1",
        "outputId": "312a8289-ff6d-492e-dcf2-4e4fc53eb9af"
      },
      "execution_count": 40,
      "outputs": [
        {
          "output_type": "stream",
          "name": "stdout",
          "text": [
            "+--------------------+-------------------+\n",
            "|Independent Features|Yearly Amount Spent|\n",
            "+--------------------+-------------------+\n",
            "|[34.49726773,12.6...|         587.951054|\n",
            "|[31.92627203,11.1...|        392.2049334|\n",
            "|[33.00091476,11.3...|        487.5475049|\n",
            "|[34.30555663,13.7...|         581.852344|\n",
            "|[33.33067252,12.7...|         599.406092|\n",
            "|[33.87103788,12.0...|        637.1024479|\n",
            "|[32.0215955,11.36...|        521.5721748|\n",
            "|[32.73914294,12.3...|        549.9041461|\n",
            "|[33.9877729,13.38...|         570.200409|\n",
            "|[31.93654862,11.8...|        427.1993849|\n",
            "|[33.99257277,13.3...|        492.6060127|\n",
            "|[33.87936082,11.5...|        522.3374046|\n",
            "|[29.53242897,10.9...|        408.6403511|\n",
            "|[33.19033404,12.9...|        573.4158673|\n",
            "|[32.38797585,13.1...|        470.4527333|\n",
            "|[30.73772037,12.6...|        461.7807422|\n",
            "|[32.1253869,11.73...|        457.8476959|\n",
            "|[32.33889932,12.0...|        407.7045475|\n",
            "|[32.18781205,14.7...|        452.3156755|\n",
            "|[32.61785606,13.9...|        605.0610388|\n",
            "+--------------------+-------------------+\n",
            "only showing top 20 rows\n",
            "\n"
          ]
        }
      ]
    },
    {
      "cell_type": "code",
      "source": [
        "#Applying Linear Regression Algorithm\n",
        "#Train and Test Split\n",
        "train_data,test_data=final_df.randomSplit([0.75,0.25])"
      ],
      "metadata": {
        "id": "kFlrmm2SgaYi"
      },
      "execution_count": 43,
      "outputs": []
    },
    {
      "cell_type": "code",
      "source": [
        "#Importing Linear Regression from pysparkML\n",
        "from pyspark.ml.regression import LinearRegression"
      ],
      "metadata": {
        "id": "UIW9txjohHYP"
      },
      "execution_count": 45,
      "outputs": []
    },
    {
      "cell_type": "code",
      "source": [
        "regressor=LinearRegression(featuresCol='Independent Features', labelCol='Yearly Amount Spent')\n",
        "regressor=regressor.fit(train_data)"
      ],
      "metadata": {
        "id": "vHY2Lk3MgyMB"
      },
      "execution_count": 46,
      "outputs": []
    },
    {
      "cell_type": "code",
      "source": [
        "#Cofficient of Regression\n",
        "regressor.coefficients\n"
      ],
      "metadata": {
        "colab": {
          "base_uri": "https://localhost:8080/"
        },
        "id": "cQSRcOqkg3go",
        "outputId": "99bfe0dc-c272-41ed-c1b0-8397f2cb7031"
      },
      "execution_count": 50,
      "outputs": [
        {
          "output_type": "execute_result",
          "data": {
            "text/plain": [
              "DenseVector([25.6661, 38.7767, 0.7305, 61.7201])"
            ]
          },
          "metadata": {},
          "execution_count": 50
        }
      ]
    },
    {
      "cell_type": "code",
      "source": [
        "#Regression Intercept\n",
        "regressor.intercept"
      ],
      "metadata": {
        "colab": {
          "base_uri": "https://localhost:8080/"
        },
        "id": "wei-pF18hZFE",
        "outputId": "7b2a0bbf-4a19-4b43-996c-400c945f7653"
      },
      "execution_count": 51,
      "outputs": [
        {
          "output_type": "execute_result",
          "data": {
            "text/plain": [
              "-1061.1028062102766"
            ]
          },
          "metadata": {},
          "execution_count": 51
        }
      ]
    },
    {
      "cell_type": "code",
      "source": [
        "#Prediction\n",
        "pred_=regressor.evaluate(test_data)\n",
        "pred_.predictions.show(25)"
      ],
      "metadata": {
        "colab": {
          "base_uri": "https://localhost:8080/"
        },
        "id": "9rJfbyh2iJ6I",
        "outputId": "119c6297-8595-4c3a-c666-a2edf44e1a01"
      },
      "execution_count": 55,
      "outputs": [
        {
          "output_type": "stream",
          "name": "stderr",
          "text": [
            "/usr/local/lib/python3.7/dist-packages/pyspark/sql/context.py:127: FutureWarning: Deprecated in 3.0.0. Use SparkSession.builder.getOrCreate() instead.\n",
            "  FutureWarning\n"
          ]
        },
        {
          "output_type": "stream",
          "name": "stdout",
          "text": [
            "+--------------------+-------------------+------------------+\n",
            "|Independent Features|Yearly Amount Spent|        prediction|\n",
            "+--------------------+-------------------+------------------+\n",
            "|[29.53242897,10.9...|        408.6403511|399.00316586502413|\n",
            "|[30.4925367,11.56...|        282.4712457| 287.6202120899907|\n",
            "|[30.57436368,11.3...|        442.0644138|442.58470141000953|\n",
            "|[30.87948434,13.2...|           490.2066| 494.6824670754693|\n",
            "|[31.04722214,11.1...|        392.4973992|388.94468831341464|\n",
            "|[31.06132516,12.3...|        487.5554581| 494.1215746907583|\n",
            "|[31.26064687,13.2...|        421.3266313| 422.6193311801205|\n",
            "|[31.26810421,12.1...|        423.4705332|427.39585386412887|\n",
            "|[31.42522688,13.2...|        530.7667187| 535.5321882848964|\n",
            "|[31.5171218,10.74...|        275.9184207|  281.005422100038|\n",
            "|[31.5261979,12.04...|        409.0945262| 419.0189907168649|\n",
            "|[31.57020083,13.3...|        545.9454921| 564.1604943042248|\n",
            "|[31.62536013,13.1...|        376.3369008| 381.2866654843565|\n",
            "|[31.65480968,13.0...|        475.2634237| 469.4054546892223|\n",
            "|[31.72420252,13.1...|        503.3878873|509.94381066375854|\n",
            "|[31.76561882,12.4...|        496.5540816|502.17484260976903|\n",
            "|[31.81861657,11.2...|        446.4186734| 448.7545632785816|\n",
            "|[31.85125313,12.4...|        472.9922467|464.94017440991615|\n",
            "|[31.86483255,13.4...|        439.8912805| 450.6998757333854|\n",
            "|[31.87455169,10.2...|        392.2852442| 398.4658952561838|\n",
            "|[31.8854063,11.28...|         390.103273| 399.6394614822573|\n",
            "|[31.90485713,12.2...|        473.9498574|491.71168758684735|\n",
            "|[31.92627203,11.1...|        392.2049334|380.75733837116286|\n",
            "|[31.94539575,12.9...|        657.0199239| 663.6356928669952|\n",
            "|[31.95630056,12.8...|        547.1259317| 565.6815136863545|\n",
            "+--------------------+-------------------+------------------+\n",
            "only showing top 25 rows\n",
            "\n"
          ]
        }
      ]
    },
    {
      "cell_type": "code",
      "source": [
        "---End of Analysis---"
      ],
      "metadata": {
        "id": "OI9RvsDOiSEb"
      },
      "execution_count": null,
      "outputs": []
    }
  ]
}