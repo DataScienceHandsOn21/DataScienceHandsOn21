{
 "cells": [
  {
   "cell_type": "code",
   "execution_count": 1,
   "metadata": {},
   "outputs": [
    {
     "name": "stdout",
     "output_type": "stream",
     "text": [
      "Hello!\n"
     ]
    }
   ],
   "source": [
    "def greet_user():   # def informs the python that we are defining python\n",
    "    \"\"\"Display a simple greeting\"\"\"  # it is  a docstring, which describes what the function does.\n",
    "    print(\"Hello!\") # it is the only line of code that greet_user will print\n",
    "greet_user()"
   ]
  },
  {
   "cell_type": "code",
   "execution_count": 2,
   "metadata": {},
   "outputs": [
    {
     "name": "stdout",
     "output_type": "stream",
     "text": [
      "Hello, Faisal!\n",
      "Hello, Sarah!\n"
     ]
    }
   ],
   "source": [
    "def greet_user(username): # here we passed the parameter\n",
    "    \"\"\"Display a simple greeting\"\"\"\n",
    "    print(f\"Hello, {username.title()}!\")\n",
    "greet_user('Faisal')\n",
    "greet_user('sarah')# sarah is an exapmle of argument not paramter"
   ]
  },
  {
   "cell_type": "markdown",
   "metadata": {},
   "source": [
    "#Types of Arguments in def:\n",
    "-positional arguments (same order the parameters were written)\n",
    "-keyword arguments (each argument consist of a variable name and a value)\n",
    "-lists & dictionaries of values\n",
    "\n"
   ]
  },
  {
   "cell_type": "code",
   "execution_count": 3,
   "metadata": {},
   "outputs": [
    {
     "name": "stdout",
     "output_type": "stream",
     "text": [
      "\n",
      "I have a hamster.\n",
      " My hamster's name is Harry.\n"
     ]
    }
   ],
   "source": [
    "#positional arguments\n",
    "def describe_pet(animal_type, pet_name):\n",
    "    \"\"\"Display information about a pet\"\"\"\n",
    "    print(f\"\\nI have a {animal_type}.\")\n",
    "    print(f\" My {animal_type}'s name is {pet_name.title()}.\")\n",
    "describe_pet('hamster', 'harry')"
   ]
  },
  {
   "cell_type": "code",
   "execution_count": 4,
   "metadata": {},
   "outputs": [
    {
     "name": "stdout",
     "output_type": "stream",
     "text": [
      "She is Anjali\n",
      "\n",
      "and she is 19\n"
     ]
    }
   ],
   "source": [
    "def describe_GF(name, age):\n",
    "    \"\"\"Describe GF name and Age\"\"\"\n",
    "    print(f\"She is {name.title()}\\n\")\n",
    "    print(f\"and she is {age.title()}\")\n",
    "    \n",
    "describe_GF('Anjali', '19')\n",
    "    "
   ]
  },
  {
   "cell_type": "code",
   "execution_count": 9,
   "metadata": {},
   "outputs": [
    {
     "name": "stdout",
     "output_type": "stream",
     "text": [
      "Pyarelal ka Ghewarmalaiwala\t\n",
      "OnlyFiftyrupaye kilo\n",
      "Pyarelal ka Boondik Laddu\t\n",
      "Only350rupaye kilo\n"
     ]
    }
   ],
   "source": [
    "def describe_pyarelal(quality, price):\n",
    "    \"\"\"Describe Ghewar Quality and Price\"\"\"\n",
    "    print(f\"Pyarelal ka {quality.title()}\\t\")\n",
    "    print(f\"Only{price.title()}rupaye kilo\")\n",
    "    \n",
    "describe_pyarelal(\"ghewarmalaiwala\", \"fifty\")\n",
    "describe_pyarelal(\"boondik laddu\" ,\"350\")\n",
    "    "
   ]
  },
  {
   "cell_type": "code",
   "execution_count": 10,
   "metadata": {},
   "outputs": [
    {
     "name": "stdout",
     "output_type": "stream",
     "text": [
      "\n",
      "I have a hamster.\n",
      " My hamster's name is Harry.\n",
      "\n",
      "I have a dog.\n",
      " My dog's name is Willie.\n",
      "\n",
      "I have a cat.\n",
      " My cat's name is Pussy.\n"
     ]
    }
   ],
   "source": [
    "#Multiple Function calls\n",
    "def describe_pet(animal_type, pet_name):\n",
    "    \"\"\"Display information about a pet\"\"\"\n",
    "    print(f\"\\nI have a {animal_type}.\")\n",
    "    print(f\" My {animal_type}'s name is {pet_name.title()}.\")\n",
    "describe_pet('hamster', 'harry')\n",
    "describe_pet('dog', 'willie')\n",
    "describe_pet('cat', 'pussy')\n"
   ]
  },
  {
   "cell_type": "markdown",
   "metadata": {},
   "source": [
    "#Calling a function multiple times is a very efficient way to work. The code describing a pet is written once in the function. Then, anytime you want to describe a new pet, you call the function with the new pet’s information."
   ]
  },
  {
   "cell_type": "code",
   "execution_count": 11,
   "metadata": {},
   "outputs": [
    {
     "name": "stdout",
     "output_type": "stream",
     "text": [
      "\n",
      " I have a hamster.\n",
      "My hamster's name is Harry.\n"
     ]
    }
   ],
   "source": [
    "# Key Word Argument is a name value pair that we pass\n",
    "\n",
    "def describe_pet(animal_type, pet_name):\n",
    "    \"\"\"Display information about a pet\"\"\"\n",
    "    print(f\"\\n I have a {animal_type}.\")\n",
    "    print(f\"My {animal_type}'s name is { pet_name.title()}.\")\n",
    "describe_pet(animal_type = 'hamster', pet_name = 'harry')\n"
   ]
  },
  {
   "cell_type": "code",
   "execution_count": 12,
   "metadata": {},
   "outputs": [
    {
     "name": "stdout",
     "output_type": "stream",
     "text": [
      "\n",
      " I have a hamster.\n",
      "My hamster's name is Harry.\n",
      "\n",
      " I have a hamster.\n",
      "My hamster's name is Harry.\n"
     ]
    }
   ],
   "source": [
    "# In key word argument the order of the argument doesnt matter\n",
    "describe_pet(animal_type = 'hamster', pet_name = 'harry')\n",
    "describe_pet(pet_name = 'harry', animal_type = 'hamster')"
   ]
  },
  {
   "cell_type": "code",
   "execution_count": 13,
   "metadata": {},
   "outputs": [
    {
     "name": "stdout",
     "output_type": "stream",
     "text": [
      "\n",
      "I have a dog.\n",
      "My dog's name is Whillie.\n",
      "\n",
      "I have a dog.\n",
      "My dog's name is Labador.\n"
     ]
    }
   ],
   "source": [
    "#Default values\n",
    "\n",
    "def describe_pet(pet_name, animal_type = 'dog'):# default value for animal type parameter\n",
    "    \"\"\"Display information about a pet\"\"\"\n",
    "    print(f\"\\nI have a {animal_type}.\")\n",
    "    print(f\"My {animal_type}'s name is {pet_name.title()}.\")\n",
    "    \n",
    "describe_pet(pet_name = 'whillie')\n",
    "\n",
    "describe_pet(pet_name = 'Labador')\n",
    "\n"
   ]
  },
  {
   "cell_type": "code",
   "execution_count": 3,
   "metadata": {
    "scrolled": true
   },
   "outputs": [
    {
     "name": "stdout",
     "output_type": "stream",
     "text": [
      "\n",
      "I have a dog.\n",
      "My dog's name is Willie.\n"
     ]
    }
   ],
   "source": [
    "# Alternative way of calling function\n",
    "describe_pet(\"willie\") # this function call has the same output"
   ]
  },
  {
   "cell_type": "code",
   "execution_count": 14,
   "metadata": {},
   "outputs": [
    {
     "name": "stdout",
     "output_type": "stream",
     "text": [
      "\n",
      "I have a hamster.\n",
      "My hamster's name is Harry.\n",
      "\n",
      "I have a hamster.\n",
      "My hamster's name is Harry.\n",
      "\n",
      "I have a hamster.\n",
      "My hamster's name is Harry.\n"
     ]
    }
   ],
   "source": [
    "# A hamster named Harry.\n",
    "describe_pet('harry', 'hamster')\n",
    "describe_pet(pet_name='harry', animal_type='hamster')\n",
    "describe_pet(animal_type='hamster', pet_name='harry')"
   ]
  },
  {
   "cell_type": "code",
   "execution_count": null,
   "metadata": {},
   "outputs": [],
   "source": [
    "#Error handeling in UDF\n",
    "#Common error-unmatched arguments error occur due to fewer or more arguments"
   ]
  },
  {
   "cell_type": "code",
   "execution_count": 15,
   "metadata": {
    "scrolled": true
   },
   "outputs": [
    {
     "name": "stdout",
     "output_type": "stream",
     "text": [
      "\n",
      "I have a neha.\n",
      "My neha's name is Pussy Cat.\n"
     ]
    }
   ],
   "source": [
    "def describe_pet(animal_type, pet_name):\n",
    "    print(f\"\\nI have a {animal_type}.\")\n",
    "    print(f\"My {animal_type}'s name is {pet_name.title()}.\")\n",
    "describe_pet(\"neha\", \"pussy cat\")# if we remove the arguments then it will give error"
   ]
  },
  {
   "cell_type": "code",
   "execution_count": 16,
   "metadata": {},
   "outputs": [
    {
     "name": "stdout",
     "output_type": "stream",
     "text": [
      " This is Xxxl size\n"
     ]
    }
   ],
   "source": [
    "def describe_shirt(shirt_size):\n",
    "    \n",
    "  \"\"\"Display size & Message on T-Shirt\"\"\"\n",
    "\n",
    "  print(f\" This is {shirt_size.title()} size\" )\n",
    "\n",
    "describe_shirt(\"xxxl\")\n"
   ]
  },
  {
   "cell_type": "code",
   "execution_count": 17,
   "metadata": {
    "scrolled": true
   },
   "outputs": [
    {
     "name": "stdout",
     "output_type": "stream",
     "text": [
      "Large\n",
      "I Love Python\n",
      "Large\n",
      "I am a Machine Learning Engineer\n"
     ]
    }
   ],
   "source": [
    "def make_shirt(message, size = 'Large'):\n",
    "    \"Display Message\"\n",
    "    print(f\"{size}\")\n",
    "    print(f\"{message}\")\n",
    "    \n",
    "make_shirt(\"I Love Python\")\n",
    "make_shirt(\"I am a Machine Learning Engineer\")\n",
    " "
   ]
  },
  {
   "cell_type": "code",
   "execution_count": 20,
   "metadata": {},
   "outputs": [
    {
     "name": "stdout",
     "output_type": "stream",
     "text": [
      "Kolkata is in India\n"
     ]
    }
   ],
   "source": [
    "def describe_city(city, country = 'India'):\n",
    "    print(f\"{city} is in {country}\")\n",
    "describe_city(\"Kolkata\")"
   ]
  },
  {
   "cell_type": "code",
   "execution_count": null,
   "metadata": {},
   "outputs": [],
   "source": [
    "# The value that function retrun value\n",
    "#The return statement takes a value from inside a function and sends it back to the line that called the function.Return values allow you to move much of your program’s grunt work into\n",
    "#functions, which can simplify the body of your program."
   ]
  },
  {
   "cell_type": "code",
   "execution_count": 21,
   "metadata": {},
   "outputs": [
    {
     "name": "stdout",
     "output_type": "stream",
     "text": [
      "Jimi Hendrix\n"
     ]
    }
   ],
   "source": [
    "def get_formatted_name(first_name, last_name):\n",
    "    \n",
    "    full_name =f\"{first_name} {last_name}\"\n",
    "    \n",
    "    return full_name.title()\n",
    "\n",
    "musician = get_formatted_name(\"jimi\", \"hendrix\")\n",
    "\n",
    "print(musician)"
   ]
  },
  {
   "cell_type": "code",
   "execution_count": 27,
   "metadata": {},
   "outputs": [
    {
     "data": {
      "text/plain": [
       "'Zakir Hussain Batliwala'"
      ]
     },
     "execution_count": 27,
     "metadata": {},
     "output_type": "execute_result"
    }
   ],
   "source": [
    "#Optional Argument\n",
    "\n",
    "def get_formatted_name(first_name, last_name, middle_name = ''):\n",
    "    \n",
    "    if middle_name:\n",
    "        \n",
    "        full_name = f\"{first_name} {middle_name} {last_name}\"\n",
    "        \n",
    "    else:\n",
    "        \n",
    "        full_name = f\"{first_name} {middle_name} {last_name}\"\n",
    "    \n",
    "        full_name = f\"{first_name} {last_name}\"\n",
    "    \n",
    "    return full_name.title()\n",
    "\n",
    "#get_formatted_name('john', 'lee', 'hooker')\n",
    "\n",
    "get_formatted_name ('Zakir', 'Batliwala', 'Hussain')\n"
   ]
  },
  {
   "cell_type": "code",
   "execution_count": 32,
   "metadata": {},
   "outputs": [
    {
     "name": "stdout",
     "output_type": "stream",
     "text": [
      "{'first': 'Manish', 'last': 'Kumar'}\n"
     ]
    }
   ],
   "source": [
    "#  Returning  a dictionary\n",
    "\n",
    "def build_person(first_name, last_name):\n",
    "    \n",
    "    top_person = {'first': first_name, 'last': last_name}\n",
    "    \n",
    "    return top_person\n",
    "             \n",
    "top_dict = build_person(\"Manish\", \"Kumar\")\n",
    "             \n",
    "print(top_dict)        "
   ]
  },
  {
   "cell_type": "code",
   "execution_count": 33,
   "metadata": {},
   "outputs": [
    {
     "name": "stdout",
     "output_type": "stream",
     "text": [
      "\n",
      "Please tell me your name:\n",
      "(enter q at any time to quit)\n",
      "First name: faisal\n",
      "Last name:khan\n",
      "\n",
      "Hello, Faisalkhan!\n",
      "\n",
      "Please tell me your name:\n",
      "(enter q at any time to quit)\n",
      "First name: q\n"
     ]
    }
   ],
   "source": [
    "#Using  a Function whith a while loop\n",
    "\n",
    "def get_formatted_name(first_name, last_name):# get_formatted_name function is\n",
    "    \n",
    "    full_name = f\"{ first_name}{last_name}\"\n",
    "    \n",
    "    return full_name.title()\n",
    "\n",
    "# This is an infinte loop!\n",
    "\n",
    "while True: #get_formatted_name() function with a while loop\n",
    "    print(\"\\nPlease tell me your name:\")\n",
    "    print(\"(enter q at any time to quit)\")\n",
    "    f_name = input(\"First name: \")\n",
    "    if f_name == 'q':\n",
    "        break\n",
    "    l_name = input(\"Last name:\")\n",
    "    if l_name =='q':\n",
    "        break\n",
    "    \n",
    "    formatted_name = get_formatted_name(f_name, l_name)\n",
    "    print(f\"\\nHello, {formatted_name}!\")"
   ]
  },
  {
   "cell_type": "code",
   "execution_count": 49,
   "metadata": {},
   "outputs": [
    {
     "name": "stdout",
     "output_type": "stream",
     "text": [
      "Mumbai is located in India\n"
     ]
    }
   ],
   "source": [
    "def get_formatted_name (city_name, country_name = \"India\"): # check later\n",
    "    \n",
    "    print(f\"{city_name} is located in {country_name}\")\n",
    "    \n",
    "get_formatted_name(\"Mumbai\")\n"
   ]
  },
  {
   "cell_type": "code",
   "execution_count": 34,
   "metadata": {},
   "outputs": [
    {
     "name": "stdout",
     "output_type": "stream",
     "text": [
      " Hello,Hannah!\n",
      " Hello,Zakir!\n",
      " Hello,Margot!\n"
     ]
    }
   ],
   "source": [
    "# Passing a list- passing a list to a function{number, object, complex objects}\n",
    "\n",
    "def greet_users(names):\n",
    "    \"\"\"Print a simple greeting to each user in the list\"\"\"\n",
    "    for name in names:\n",
    "        msg = f\" Hello,{name.title()}!\"\n",
    "        print(msg)\n",
    "usernames = ['hannah', 'zakir', 'margot']\n",
    "greet_users(usernames)\n"
   ]
  },
  {
   "cell_type": "code",
   "execution_count": 51,
   "metadata": {},
   "outputs": [
    {
     "name": "stdout",
     "output_type": "stream",
     "text": [
      " Hey!Zakir! kya haal hai!.\n",
      " Hey!Agent Vinod! kya haal hai!.\n",
      " Hey!Utiyake! kya haal hai!.\n"
     ]
    }
   ],
   "source": [
    "def greet_users(names):\n",
    "    \n",
    "    \"\"\" Print a simple greeting to each user in the list\"\"\"\n",
    "    \n",
    "    for name in names:\n",
    "        say = f\" Hey!{name.title()}! kya haal hai!.\"\n",
    "        print(say)\n",
    "    \n",
    "_name = ['zakir', 'agent vinod', 'utiyake']\n",
    "greet_users(_name)\n",
    "    \n",
    "    "
   ]
  },
  {
   "cell_type": "code",
   "execution_count": 53,
   "metadata": {},
   "outputs": [
    {
     "name": "stdout",
     "output_type": "stream",
     "text": [
      " Janab Manish sahab kya haal hai?\n",
      " Janab Ramesh sahab kya haal hai?\n",
      " Janab Waqar sahab kya haal hai?\n"
     ]
    }
   ],
   "source": [
    "def greet_users(names):\n",
    "    \"\"\"\"\"\"\n",
    "    for name in names:\n",
    "        msg =  f\" Janab {name} sahab kya haal hai?\"\n",
    "        print (msg)\n",
    "        \n",
    "user_names = ['Manish', 'Ramesh', 'Waqar']\n",
    "              \n",
    "greet_users (user_names)"
   ]
  },
  {
   "cell_type": "code",
   "execution_count": 5,
   "metadata": {
    "scrolled": true
   },
   "outputs": [
    {
     "name": "stdout",
     "output_type": "stream",
     "text": [
      " Printing model:dodecahedron\n",
      " Printing model:robot pendant\n",
      " Printing model:phone case\n",
      "n\\The following models have been printed:\n",
      "dodecahedron\n",
      "robot pendant\n",
      "phone case\n"
     ]
    }
   ],
   "source": [
    "# Modifying a list in a function- INDUSTRIAL_USE CASE\n",
    "\n",
    "# Start with some design  that need to be printed\n",
    "\n",
    "unprinted_designs = ['phone case', 'robot pendant', 'dodecahedron']\n",
    "completed_models = []\n",
    "\n",
    "#Simulate printing each design, until none are left\n",
    "# Move each design to completed_models after printing\n",
    "\n",
    "while unprinted_designs:\n",
    "    \n",
    "    current_design = unprinted_designs.pop()\n",
    "    print(f\" Printing model:{current_design}\")\n",
    "    completed_models.append(current_design)\n",
    "    \n",
    "    \n",
    "\n",
    "# Display all completed models \n",
    "print(\"n\\The following models have been printed:\")\n",
    "for completed_model in completed_models:\n",
    "    print(completed_model)\n",
    "    \n",
    "    \n",
    "        \n",
    "    \n",
    "\n",
    "\n",
    "\n",
    "\n"
   ]
  },
  {
   "cell_type": "code",
   "execution_count": 55,
   "metadata": {
    "scrolled": true
   },
   "outputs": [
    {
     "name": "stdout",
     "output_type": "stream",
     "text": [
      "Cooking Hyderabadi_Biryani putting in: Refined Oil\n",
      "Cooking Hyderabadi_Biryani putting in: Onion\n",
      "Cooking Hyderabadi_Biryani putting in: Food Colour\n",
      "Cooking Hyderabadi_Biryani putting in: Spices\n",
      "Cooking Hyderabadi_Biryani putting in: Mutton\n",
      "Cooking Hyderabadi_Biryani putting in: Rice\n",
      "\n",
      "Cooked_onGas Hyderabadi_Biryani with these ingridents items:\n",
      "Refined Oil\n",
      "Onion\n",
      "Food Colour\n",
      "Spices\n",
      "Mutton\n",
      "Rice\n",
      "Ready to eat: the delicious Biryani including['Refined Oil', 'Onion', 'Food Colour', 'Spices', 'Mutton', 'Rice']\n"
     ]
    }
   ],
   "source": [
    "#Making Mutton Biryani\n",
    "\n",
    "raw_materials = [\"Rice\", \"Mutton\", \"Spices\", \"Food Colour\", \"Onion\" , \"Refined Oil\"]\n",
    "\n",
    "Hyderabadi_Biryani = []\n",
    "\n",
    "while raw_materials:\n",
    "    \n",
    "    cooked_onGas = raw_materials.pop()\n",
    "    \n",
    "    print(f\"Cooking Hyderabadi_Biryani putting in: {cooked_onGas}\")\n",
    "    \n",
    "    Hyderabadi_Biryani.append(cooked_onGas)\n",
    "    \n",
    "print (f\"\\nCooked_onGas Hyderabadi_Biryani with these ingridents items:\")\n",
    "\n",
    "for _biryani in Hyderabadi_Biryani:\n",
    "    \n",
    "    print(_biryani)\n",
    "    \n",
    "Biryani_Blu = Hyderabadi_Biryani \n",
    "    \n",
    "print(f\"Ready to eat: the delicious Biryani including{Biryani_Blu}\")\n",
    "   \n"
   ]
  },
  {
   "cell_type": "code",
   "execution_count": 59,
   "metadata": {},
   "outputs": [
    {
     "data": {
      "text/plain": [
       "'def print_models(unprinted_designs, completed_models):\\n    \\n    while unprinted_designs:\\n        current_design = unprinted_designs.pop()\\n    \\n    print(f\"Printing model:{current_design}\")\\n    \\n    completed_models.append(current_design)\\n\\ndef show_completed_models(completed_models):\\n    print(\"\\n The following models have been printed:\")\\n    \\n    for completed_model in completed_models:\\n        print(completed_model)\\n\\nunprinted_designs =[\\'phonecase\\', \\'robot pendant\\',\\'dodecahderon\\']\\n\\ncompleted_models=[]\\n\\nprint_models(unprinted_designs, completed_models)\\n\\nshow_completed_models(completed_models)'"
      ]
     },
     "execution_count": 59,
     "metadata": {},
     "output_type": "execute_result"
    }
   ],
   "source": [
    "'''def print_models(unprinted_designs, completed_models):\n",
    "    \n",
    "    while unprinted_designs:\n",
    "        current_design = unprinted_designs.pop()\n",
    "    \n",
    "    print(f\"Printing model:{current_design}\")\n",
    "    \n",
    "    completed_models.append(current_design)\n",
    "\n",
    "def show_completed_models(completed_models):\n",
    "    print(\"\\n The following models have been printed:\")\n",
    "    \n",
    "    for completed_model in completed_models:\n",
    "        print(completed_model)\n",
    "\n",
    "unprinted_designs =['phonecase', 'robot pendant','dodecahderon']\n",
    "\n",
    "completed_models=[]\n",
    "\n",
    "print_models(unprinted_designs, completed_models)\n",
    "\n",
    "show_completed_models(completed_models)'''"
   ]
  },
  {
   "cell_type": "code",
   "execution_count": 63,
   "metadata": {},
   "outputs": [
    {
     "name": "stdout",
     "output_type": "stream",
     "text": [
      "('pepperoni',)\n",
      "('mushrooms', 'green peppers', 'extra cheese')\n",
      "('panner', 'capsicum', 'onion')\n"
     ]
    }
   ],
   "source": [
    "#Passing an Arbitrary Number of Arguments\n",
    "def make_pizza(*toppings):\n",
    "    \"\"\"\"Print the list of toppings that have been requested\"\"\"\n",
    "    print(toppings)\n",
    "make_pizza('pepperoni')\n",
    "make_pizza('mushrooms', 'green peppers', 'extra cheese')\n",
    "make_pizza('panner', 'capsicum', 'onion')\n"
   ]
  },
  {
   "cell_type": "code",
   "execution_count": null,
   "metadata": {},
   "outputs": [],
   "source": []
  }
 ],
 "metadata": {
  "kernelspec": {
   "display_name": "Python 3",
   "language": "python",
   "name": "python3"
  },
  "language_info": {
   "codemirror_mode": {
    "name": "ipython",
    "version": 3
   },
   "file_extension": ".py",
   "mimetype": "text/x-python",
   "name": "python",
   "nbconvert_exporter": "python",
   "pygments_lexer": "ipython3",
   "version": "3.7.0"
  }
 },
 "nbformat": 4,
 "nbformat_minor": 2
}
