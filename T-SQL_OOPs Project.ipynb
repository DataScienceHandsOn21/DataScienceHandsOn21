{
 "cells": [
  {
   "cell_type": "code",
   "execution_count": null,
   "metadata": {},
   "outputs": [],
   "source": [
    "1.\tCreate a stored procedure to check the account balance.\n",
    "CREATE PROCEDURE spcheckaccountbalance5 \n",
    "@bankaccountnumber int,\n",
    "@username          Varchar(100)\n",
    "AS\n",
    "BEGIN\n",
    "    SELECT u.[User Id], u.[User Name], b.[bank account id], b.[bank account number], b.[is user active], b.[amount], (b.[amount]-t.[withdrawn amount]) AS [Balance]\n",
    "    FROM [User Table] u\n",
    "    INNER JOIN [Bank_Account Table] b ON\n",
    "    u. [User Id] = [User Id].b\n",
    "    INNER JOIN [Transaction Table] t ON\n",
    "    b.[User Id] = [User Id].t\n",
    "    WHERE b.[bank account number] = @bankaccountnumber AND u.[User Name] = @username;\n",
    "END\n",
    "EXEC spcheckaccountbalance5 @bankaccountnumber = , @username = ''"
   ]
  },
  {
   "cell_type": "code",
   "execution_count": null,
   "metadata": {},
   "outputs": [],
   "source": [
    "2.CREATE PROCEDURE spwithdrawamount\n",
    "@banckaccountnumber   int(15),\n",
    "AS \n",
    "BEGIN\n",
    "SELECT u.[User Id], u.[User Name], b.[bank account id], b.[bank account number],(b.[amount]-t.[withdrawn amount]) AS [Balance],\n",
    "FROM [User Table] u\n",
    "   LEFT JOIN [Bank_Account Table] b ON\n",
    "   u. [User Id] = [User Id].b\n",
    "   LEFT JOIN [Transaction Table] t ON\n",
    "   b.[User Id] = [User Id].t\n",
    "   CASE WHEN [Balance] < 5000 THEN \"the amount entered is more than the balance amount\"\n",
    "   ROLLBACK \n",
    "   ELSE “Money has been withdrawn successfully\"\n",
    "   UPDATE [Amount]= b.[amount]-t.[withdrawn amount]\n",
    "   SET [BALANCE] = b.[amount]-t.[withdrawn amount]\n",
    "   WHERE b.[bank account number] = @banckaccountnumber;\n",
    "   END AS Withdrawnamount\n",
    "END\n",
    "\n",
    "\n"
   ]
  },
  {
   "cell_type": "code",
   "execution_count": null,
   "metadata": {},
   "outputs": [],
   "source": [
    "3.CREATE PROCEDURE spcheckaccountstatement\n",
    "@bankaccountnumber int,\n",
    "@username          Varchar(100)\n",
    "AS \n",
    "BEGIN\n",
    "SELECT u.[User Id], u.[User Name], u.[ User created date], b.[bank account id], b.[bank account  number], b.[is user active], t.[ Transaction date], b.[amount], t.[withdrawn], (b.[amount]-t.[withdrawn amount]) AS ‘Balance’, \n",
    "FROM [User Table] u\n",
    "LEFT JOIN [Bank_Account Table] b ON\n",
    "u. [User Id] = [User Id].b\n",
    "LEFT JOIN [Transaction Table] t ON\n",
    " b.[User Id] = [User Id].t\n",
    "WHERE  t.[ Transaction date] BETWEEN u.[ User created date] AND t.[ Transaction date] AND b.[bank account number] = @bankaccountnumber AND u.[User Name] = @username;\n",
    "GROUP BY t.[ Transaction date]\n",
    "ORDER BY u.[User Id] ASC\n",
    "END"
   ]
  },
  {
   "cell_type": "code",
   "execution_count": null,
   "metadata": {},
   "outputs": [],
   "source": [
    "#Creating connectiona and Importing DB into Jupyter Notebook"
   ]
  },
  {
   "cell_type": "raw",
   "metadata": {},
   "source": [
    "# Import Database API\n",
    "import pymysql\n",
    "# Database connection function\n",
    "def CreateConn():\n",
    "    return pymysql.connect(host=\"localhost\",database=\"IneuronPaymentBank\",\n",
    "                          user=\"root\",password=\"DataPlayer22\",port=xyz)\n",
    "                            \n",
    "            cursor = connection.cursor()\n",
    "            cursor.callproc(\"spcheckaccountbalance\", [1,])\n",
    "    # print results\n",
    "    print(\"Account balance details\")\n",
    "    for result in cursor.stored_results():\n",
    "        print(result.fetchall())\n",
    "except mysql.connector.Error as error:\n",
    "    print(\"Failed to execute stored procedure: {}\".format(error))\n",
    "finally:\n",
    "    if (connection.is_connected()):\n",
    "        cursor.close()\n",
    "        connection.close()\n",
    "        print(\"MySQL connection is closed\")"
   ]
  },
  {
   "cell_type": "raw",
   "metadata": {},
   "source": [
    "def ShowAllData():\n",
    "    conn = CreateConn()\n",
    "    cursor = conn.cursor()\n",
    "    query = \"\"\"\n",
    "    SELECT * FROM [User Table] u\n",
    "    INNER JOIN [Bank_Account Table] b ON\n",
    "    u. [User Id] = [User Id].b\n",
    "    INNER JOIN [Transaction Table] t ON\n",
    "    b.[User Id] = [User Id].t\n",
    "    cursor.execute(query)\n",
    "    result = cursor.fetchall()\n",
    "    for i in result:\n",
    "    print(i)\n",
    "\"\"\"\"\n",
    "ShowAllData()"
   ]
  },
  {
   "cell_type": "code",
   "execution_count": null,
   "metadata": {},
   "outputs": [],
   "source": [
    "2#Inserting records into the DB"
   ]
  },
  {
   "cell_type": "raw",
   "metadata": {},
   "source": [
    "import mysql.connector\n",
    "from mysql.connector import Error\n",
    "\n",
    "try:\n",
    "    connection = mysql.connector.connect(host='localhost',\n",
    "                                         database='IneuronPaymentBank',\n",
    "                                         user='pynative',\n",
    "                                         password='Datapalyer22')\n",
    "IneuronPaymentBank_insert_query = \"\"\"\n",
    "INSERT INTO [User Table] (User Id, User name, User dob,User email, User created date ) \n",
    "VALUES (15, 'Faisal', '1990-08-14', faisal05@gmail.com,'2021-08-14')\n",
    "\"\"\"\n",
    "with connection.cursor() as cursor:\n",
    "    cursor.execute(INeuronPaymentBank_insert_query)\n",
    "    connection.commit()\n",
    "           "
   ]
  },
  {
   "cell_type": "markdown",
   "metadata": {},
   "source": [
    "1.\tInvoke stored procedure using python script."
   ]
  },
  {
   "cell_type": "raw",
   "metadata": {},
   "source": [
    "result_proc= cursor.callproc('spwithdrawamount', [2,])"
   ]
  },
  {
   "cell_type": "raw",
   "metadata": {},
   "source": [
    "result_proc= cursor.callproc('spcheckaccountstatement', [3,])"
   ]
  },
  {
   "cell_type": "markdown",
   "metadata": {},
   "source": [
    "3.\tUse OOPs to design python programs to implement all functionality mentioned above."
   ]
  },
  {
   "cell_type": "code",
   "execution_count": 39,
   "metadata": {},
   "outputs": [],
   "source": [
    "class spBank_Account:\n",
    "    \n",
    "    def __init__(self, name, userId, balance, bankaccountnumber):#Base class\n",
    "        self.name = name\n",
    "        self.userId = userId\n",
    "        self.balance = balance\n",
    "        self.bankaccountnumber = bankaccountnumber\n",
    "        \n",
    "    def spwithdraw(self,withdrawnamount, bankaccountnumber):#sub class\n",
    "        if bankaccountnumber != self.bankaccountnumber:\n",
    "            print(\"Incorrect bankaccountnumber for this account\")\n",
    "            return None\n",
    "            self.balance = 5000\n",
    "        if withdrawnamount > self.balance:\n",
    "            print(\"Your Account Balance is Low\")\n",
    "            return None\n",
    "        \n",
    "        self.balance = self.balance - withdrawnamount\n",
    "        return self.balance\n",
    "                  \n",
    "    def spgetBalance(self, bankaccountnumber): #Sub class\n",
    "        \n",
    "        if bankaccountnumber!= self.bankaccountnumber:\n",
    "            print(\"Sorry,bankaccountnumber incorrect \")\n",
    "            return None\n",
    "        return self.balance\n",
    "\n",
    "    def spcheckaccountstatement(self, name, bankaccountnumber):\n",
    "        if bankaccountnumber != self.bankaccountnumber:\n",
    "            return None\n",
    "        print(\"username:\", self.name)\n",
    "        print(\"userId:\", self.userId)\n",
    "        print(\"bankaccountnumber:\", self.bankaccountnumber)\n",
    "        print(\"balance:\", self.balance)\n",
    "        print()\n",
    "\n",
    "                  \n",
    "#Creating Object\n",
    "Obj = spBank_Account(\"Ambani\", 225, 6000, 252525)\n"
   ]
  },
  {
   "cell_type": "code",
   "execution_count": 38,
   "metadata": {},
   "outputs": [
    {
     "name": "stdout",
     "output_type": "stream",
     "text": [
      "username: Ambani\n",
      "userId: 225\n",
      "bankaccountnumber: 252525\n",
      "balance: 6000\n",
      "\n"
     ]
    }
   ],
   "source": [
    "Obj.spcheckaccountstatement('Ambani', 252525)"
   ]
  },
  {
   "cell_type": "code",
   "execution_count": 10,
   "metadata": {},
   "outputs": [
    {
     "data": {
      "text/plain": [
       "6000"
      ]
     },
     "execution_count": 10,
     "metadata": {},
     "output_type": "execute_result"
    }
   ],
   "source": [
    "Obj.spgetBalance(252525)"
   ]
  },
  {
   "cell_type": "code",
   "execution_count": 11,
   "metadata": {},
   "outputs": [
    {
     "name": "stdout",
     "output_type": "stream",
     "text": [
      "Your Account Balance is Low\n"
     ]
    }
   ],
   "source": [
    "Obj.spwithdraw(7000, 252525)"
   ]
  },
  {
   "cell_type": "code",
   "execution_count": null,
   "metadata": {},
   "outputs": [],
   "source": []
  }
 ],
 "metadata": {
  "kernelspec": {
   "display_name": "Python 3",
   "language": "python",
   "name": "python3"
  },
  "language_info": {
   "codemirror_mode": {
    "name": "ipython",
    "version": 3
   },
   "file_extension": ".py",
   "mimetype": "text/x-python",
   "name": "python",
   "nbconvert_exporter": "python",
   "pygments_lexer": "ipython3",
   "version": "3.7.0"
  }
 },
 "nbformat": 4,
 "nbformat_minor": 2
}
