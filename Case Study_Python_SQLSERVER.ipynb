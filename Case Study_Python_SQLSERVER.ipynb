{
 "cells": [
  {
   "cell_type": "code",
   "execution_count": 3,
   "metadata": {},
   "outputs": [],
   "source": [
    "#Importing DB module\n",
    "import pyodbc"
   ]
  },
  {
   "cell_type": "code",
   "execution_count": 8,
   "metadata": {},
   "outputs": [
    {
     "name": "stdout",
     "output_type": "stream",
     "text": [
      "Connection Successfully Established\n"
     ]
    }
   ],
   "source": [
    "#importing module  \n",
    "import pyodbc  \n",
    "#creating connection Object which will contain SQL Server Connection  \n",
    "connection = pyodbc.connect('Driver={SQL Server};Server=.\\\\sqlexpress;Database=Payroll')  \n",
    "print(\"Connection Successfully Established\")  \n",
    "#closing connection  \n",
    "#connection.close()  "
   ]
  },
  {
   "cell_type": "code",
   "execution_count": 10,
   "metadata": {},
   "outputs": [
    {
     "name": "stdout",
     "output_type": "stream",
     "text": [
      "Data Successfully Inserted\n"
     ]
    }
   ],
   "source": [
    "#Creating Cursor  \n",
    "cursor = connection.cursor()   \n",
    "#SQL Query  \n",
    "SQLCommand = (\"INSERT INTO EmployeeMaster1(Name, Salary, Mobile, Designation) VALUES ('Sourabh','200000','9928486447','Computer Programmer')\")  \n",
    "#Processing Query  \n",
    "cursor.execute(SQLCommand)   \n",
    "#Commiting any pending transaction to the database.  \n",
    "connection.commit()  \n",
    "#closing connection  \n",
    "connection.close()  \n",
    "print(\"Data Successfully Inserted\")  "
   ]
  },
  {
   "cell_type": "code",
   "execution_count": 17,
   "metadata": {},
   "outputs": [],
   "source": [
    "#Using  blank values with ? to insert values later\n",
    "SQLCommand = (\"INSERT INTO EmployeeMaster1(Name, Salary, Mobile, Designation) VALUES (?,?,?,?)\")"
   ]
  },
  {
   "cell_type": "code",
   "execution_count": 18,
   "metadata": {},
   "outputs": [
    {
     "data": {
      "text/plain": [
       "<pyodbc.Cursor at 0x5197648>"
      ]
     },
     "execution_count": 18,
     "metadata": {},
     "output_type": "execute_result"
    }
   ],
   "source": [
    "#Creating cursor\n",
    "connection = pyodbc.connect('Driver={SQL Server};Server=.\\\\sqlexpress;Database=Payroll')  \n",
    "cursor = connection.cursor() \n",
    "#Values(?,?,?)\n",
    "Name= \"DJ\"  \n",
    "Salary=50000  \n",
    "Mobile=\"9876543210\"  \n",
    "Designation=\"Computer Programmer\" \n",
    "Values = [Name,Salary,Mobile,Designation]  \n",
    "#Executing command\n",
    "cursor.execute(SQLCommand,Values)"
   ]
  },
  {
   "cell_type": "code",
   "execution_count": 19,
   "metadata": {},
   "outputs": [
    {
     "name": "stdout",
     "output_type": "stream",
     "text": [
      "Data Successfully Inserted\n"
     ]
    }
   ],
   "source": [
    "#Commiting any pending transaction to the database.  \n",
    "connection.commit()  \n",
    "#closing connection  \n",
    "connection.close()  \n",
    "print(\"Data Successfully Inserted\") "
   ]
  },
  {
   "cell_type": "code",
   "execution_count": 24,
   "metadata": {},
   "outputs": [
    {
     "name": "stdout",
     "output_type": "stream",
     "text": [
      "Updated Successfully\n"
     ]
    }
   ],
   "source": [
    "#Updating\n",
    "#creating connection Object which will contain SQL Server Connection  \n",
    "connection = pyodbc.connect('Driver={SQL Server};Server=.\\\\sqlexpress;Database=Payroll')  \n",
    "#Creating Cursor  \n",
    "cursor = connection.cursor()   \n",
    "#SQL Query  \n",
    "SQLCommand = (\"Update EmployeeMaster1 set Name='Dhananjay' where EmployeeID=2\")  \n",
    "#Processing Query  \n",
    "cursor.execute(SQLCommand)   \n",
    "#Commiting any pending transaction to the database.  \n",
    "connection.commit()  \n",
    "#closing connection  \n",
    "connection.close()  \n",
    "print(\"Updated Successfully\")  "
   ]
  },
  {
   "cell_type": "code",
   "execution_count": 26,
   "metadata": {},
   "outputs": [
    {
     "name": "stdout",
     "output_type": "stream",
     "text": [
      "Deleted Successfully\n"
     ]
    }
   ],
   "source": [
    "#Delete From the Database\n",
    "#creating connection Object which will contain SQL Server Connection  \n",
    "connection = pyodbc.connect('Driver={SQL Server};Server=.\\\\sqlexpress;Database=Payroll')  \n",
    "#Creating Cursor  \n",
    "cursor = connection.cursor()   \n",
    "#SQL Query  \n",
    "SQLCommand = (\"Delete from EmployeeMaster1 where EmployeeID=3\")  \n",
    "#Processing Query  \n",
    "cursor.execute(SQLCommand)   \n",
    "#Commiting any pending transaction to the database.  \n",
    "connection.commit()  \n",
    "#closing connection  \n",
    "connection.close()  \n",
    "print(\"Deleted Successfully\") "
   ]
  },
  {
   "cell_type": "code",
   "execution_count": 28,
   "metadata": {},
   "outputs": [
    {
     "name": "stdout",
     "output_type": "stream",
     "text": [
      "------------Employee 1-----------------\n",
      "1\n",
      "Sourabh\n",
      "200000.00\n",
      "9928486447\n",
      "Computer Programmer\n",
      "---------------------------------------\n",
      "\n",
      "------------Employee 2-----------------\n",
      "2\n",
      "Dhananjay\n",
      "50000.00\n",
      "9876543210\n",
      "Computer Programmer\n",
      "---------------------------------------\n",
      "\n"
     ]
    }
   ],
   "source": [
    "#Retrieve Data from the Database\n",
    "#creating connection Object which will contain SQL Server Connection  \n",
    "connection = pyodbc.connect('Driver={SQL Server};Server=.\\\\sqlexpress;Database=Payroll')  \n",
    "#Creating Cursor  \n",
    "cursor = connection.cursor() \n",
    "#SQL Query  \n",
    "SQLCommand = (\"select * from EmployeeMaster1\")  \n",
    "#Processing Query  \n",
    "cursor.execute(SQLCommand)   \n",
    "i=1  \n",
    "for rows in cursor.fetchall():  \n",
    "    print(\"------------Employee %d-----------------\"%i)  \n",
    "    for field in rows:  \n",
    "        print(str(field))  \n",
    "    print(\"---------------------------------------\")  \n",
    "    print('')  \n",
    "    i=i+1  \n",
    "  \n",
    "#closing connection  \n",
    "connection.close()  "
   ]
  },
  {
   "cell_type": "code",
   "execution_count": null,
   "metadata": {},
   "outputs": [],
   "source": [
    "-----END of Analysis---"
   ]
  }
 ],
 "metadata": {
  "kernelspec": {
   "display_name": "Python 3",
   "language": "python",
   "name": "python3"
  },
  "language_info": {
   "codemirror_mode": {
    "name": "ipython",
    "version": 3
   },
   "file_extension": ".py",
   "mimetype": "text/x-python",
   "name": "python",
   "nbconvert_exporter": "python",
   "pygments_lexer": "ipython3",
   "version": "3.7.0"
  }
 },
 "nbformat": 4,
 "nbformat_minor": 2
}
