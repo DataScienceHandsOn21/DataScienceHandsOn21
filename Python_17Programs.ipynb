{
 "cells": [
  {
   "cell_type": "markdown",
   "metadata": {},
   "source": [
    "Python Programs_HandsOn"
   ]
  },
  {
   "cell_type": "code",
   "execution_count": 1,
   "metadata": {},
   "outputs": [
    {
     "data": {
      "text/plain": [
       "'The solutions of this quadratic equation is given by:'"
      ]
     },
     "execution_count": 1,
     "metadata": {},
     "output_type": "execute_result"
    }
   ],
   "source": [
    "#Create a program to solve the Quadritic equation\n",
    "'''This program computes roots of a quadratic equation when coefficients a, b and c are known.'''\n",
    "''' We know the standards form of Quadritic equiation: ax2 + bx + c = 0, where\n",
    "a, b and c are real numbers and a ≠ 0'''\n",
    "'''The solutions of this quadratic equation is given by:'''\n",
    "#(-b ± (b ** 2 - 4 * a * c) ** 0.5) / (2 * a)"
   ]
  },
  {
   "cell_type": "code",
   "execution_count": 2,
   "metadata": {},
   "outputs": [
    {
     "name": "stdout",
     "output_type": "stream",
     "text": [
      "The solution are (-3+0j) and (-2+0j)\n"
     ]
    }
   ],
   "source": [
    "#import complex math module to perfom complex square root\n",
    "import cmath\n",
    "a = 1\n",
    "b = 5\n",
    "c = 6\n",
    "#Calculate the discrimant\n",
    "d = (b**2)-(4*a*c)\n",
    "#Find the two solutions\n",
    "sol1 = (-b-cmath.sqrt(d))/(2*a)\n",
    "sol2 = (-b+cmath.sqrt(d))/(2*a)\n",
    "print('The solution are {0} and {1}'.format(sol1, sol2))\n",
    "    \n",
    "    \n",
    "    \n",
    "    "
   ]
  },
  {
   "cell_type": "code",
   "execution_count": 3,
   "metadata": {},
   "outputs": [
    {
     "name": "stdout",
     "output_type": "stream",
     "text": [
      "The solution are (-0.5833333333333334-1.076903998610007j) and (-0.5833333333333334+1.076903998610007j)\n"
     ]
    }
   ],
   "source": [
    "#Changing the values of real numbers:\n",
    "a = 6\n",
    "b = 7\n",
    "c = 9\n",
    "#Calculate the discrimant\n",
    "d = (b**2)-(4*a*c)\n",
    "#Find the two solutions\n",
    "sol1 = (-b-cmath.sqrt(d))/(2*a)\n",
    "sol2 = (-b+cmath.sqrt(d))/(2*a)\n",
    "print('The solution are {0} and {1}'.format(sol1, sol2))\n",
    "    \n",
    "    \n",
    "    \n",
    "    "
   ]
  },
  {
   "cell_type": "code",
   "execution_count": 8,
   "metadata": {},
   "outputs": [
    {
     "name": "stdout",
     "output_type": "stream",
     "text": [
      "Enter a number: 16\n",
      "the square root of 16.000 is 4.000\n"
     ]
    }
   ],
   "source": [
    "#Python Program to Find the Square Root of operator using operator and \n",
    "num = 36\n",
    "# taking imput from the users\n",
    "num = float(input('Enter a number: '))\n",
    "num_sqrt = num**0.5\n",
    "print('the square root of %0.3f is %0.3f'%(num, num_sqrt))"
   ]
  },
  {
   "cell_type": "code",
   "execution_count": null,
   "metadata": {},
   "outputs": [],
   "source": [
    "#Program to find the square root of the complex number directly by eval() method\n",
    "num = 1+2j\n",
    "#Taking input by eval() method\n",
    "num = eval(input('Enter a number:'))\n",
    "num_sqrt = cmath.sqrt(num)\n",
    "print('The square root of {0} is {1:0.3f}+{2:0.3f}j'.format(num ,num_sqrt.real,num_sqrt.imag))"
   ]
  },
  {
   "cell_type": "code",
   "execution_count": null,
   "metadata": {},
   "outputs": [],
   "source": [
    "#Case-1:Python Program to Swap Two Variables using temporary variables\n",
    "x = 5\n",
    "y = 10\n",
    "#Taking input from the user\n",
    "x = input('Enter value of x: ')\n",
    "y= input('Enter value of y:')\n",
    "\n",
    "#Creating the temprorary variable and swaping the value\n",
    "temp = x\n",
    "x =y\n",
    "y = temp\n",
    "print('The value of x after the swapping:{}'.format(x))\n",
    "print('The value of y after swapping:{}'.format(y))\n"
   ]
  },
  {
   "cell_type": "code",
   "execution_count": null,
   "metadata": {},
   "outputs": [],
   "source": [
    "#Case-2:Without using the temporary variable\n",
    "x = 5\n",
    "y = 10\n",
    "x,y = y,x\n",
    "print(\"x=\", x)\n",
    "print(\"y=\",y)"
   ]
  },
  {
   "cell_type": "markdown",
   "metadata": {},
   "source": [
    "#Create program and check whether an n-digit integer is an Armstrong number or not.\n",
    "#A poistive integer is called an Armstrong number abcd... = an + bn + cn+dn + ...\n",
    "'''In case of an Armstrong number of 3 digits, the sum of cubes of each digit is equal to the number itself. For example:'''(i.e = 153=1+1+1,5+5+5,3+3+3=153)"
   ]
  },
  {
   "cell_type": "code",
   "execution_count": null,
   "metadata": {},
   "outputs": [],
   "source": [
    "#take input from the users\n",
    "num = int(input(\"Enter a number:\"))\n",
    "#Intialise the sum\n",
    "sum = 0\n",
    "#find the sum of the cube of each digit\n",
    "temp = num\n",
    "while temp>0:\n",
    "    digit = temp%10\n",
    "    sum+= digit**3\n",
    "    temp//=10'''Division (floor): divides the first operand by the second'''\n",
    "\n",
    "#Show result\n",
    "if num == sum:\n",
    "    print(num, \" is an Armstrong number\")\n",
    "else:\n",
    "    print(num, \"is not an Armstrong number\")"
   ]
  },
  {
   "cell_type": "code",
   "execution_count": null,
   "metadata": {},
   "outputs": [],
   "source": [
    "#Create program and Check Armstrong number of n digits\n",
    "num = 8527435789466\n",
    "# Changed num variable to string, \n",
    "# and calculated the length (number of digits)\n",
    "order = len(str(num))\n",
    "# initialize sum\n",
    "sum = 0\n",
    "#find the sum of the cube of each digit\n",
    "temp = num\n",
    "while temp>0:\n",
    "    digit = temp%10\n",
    "    sum+= digit**order\n",
    "    temp//=10\n",
    "#Display result\n",
    "if num ==sum:\n",
    "    print(num, \"is an Armstrong number\")\n",
    "else:\n",
    "    print(num, \"is not an Armstrong number\")"
   ]
  },
  {
   "cell_type": "code",
   "execution_count": null,
   "metadata": {},
   "outputs": [],
   "source": [
    "#Create a program to Count Number of Digits in an Integer using while loop\n",
    "num = 85247956\n",
    "count = 0\n",
    "while num!=0:\n",
    "    num//=10\n",
    "    count+=1\n",
    "print(\"Number of digits:\"+str(count))"
   ]
  },
  {
   "cell_type": "code",
   "execution_count": null,
   "metadata": {},
   "outputs": [],
   "source": [
    "#Create Program to Check if a Number is Odd or Even\n",
    "num = int(input(\"Enter number:\"))\n",
    "if num%2==0:\n",
    "    print(\"{0} is Even\".format(num))\n",
    "else:\n",
    "    print(\"{0}is Odd\".format(num))"
   ]
  },
  {
   "cell_type": "code",
   "execution_count": null,
   "metadata": {},
   "outputs": [],
   "source": [
    "#Program to Remove Duplicate Element From a List\n",
    "list_1 = [1,2,1,4,6]\n",
    "print(list(set(list_1)))#converting the list into a set, then  again converting it into a list."
   ]
  },
  {
   "cell_type": "markdown",
   "metadata": {},
   "source": [
    "Problem: Alice has some cards with numbers written on them. She arranges the cards in decreasing order, and lays them out face down in a sequence on a table. She challenges Bob to pick out the card containing a given number by turning over as few cards as possible. Write a function to help Bob locate the card."
   ]
  },
  {
   "cell_type": "code",
   "execution_count": null,
   "metadata": {},
   "outputs": [],
   "source": [
    "def locate_card(cards, query):\n",
    "    # Create a variable position with the value 0\n",
    "    position = 0\n",
    "    \n",
    "    # Set up a loop for repetition\n",
    "    while True:\n",
    "        \n",
    "        # Check if element at the current position matche the query\n",
    "        if cards[position] == query:\n",
    "            \n",
    "            # Answer found! Return and exit..\n",
    "            return position\n",
    "        \n",
    "        # Increment the position\n",
    "        position += 1\n",
    "        \n",
    "        # Check if we have reached the end of the array\n",
    "        if position == len(cards):\n",
    "            \n",
    "            # Number not found, return -1\n",
    "            return -1"
   ]
  },
  {
   "cell_type": "code",
   "execution_count": null,
   "metadata": {},
   "outputs": [],
   "source": [
    "#Testing the UDF\n",
    "test"
   ]
  },
  {
   "cell_type": "code",
   "execution_count": null,
   "metadata": {},
   "outputs": [],
   "source": [
    "result = locate_card(test['input'], ['card'], test['input']['query'])\n",
    "result = output"
   ]
  },
  {
   "cell_type": "code",
   "execution_count": 1,
   "metadata": {},
   "outputs": [
    {
     "name": "stdout",
     "output_type": "stream",
     "text": [
      "16\n",
      "17\n",
      "18\n",
      "19\n",
      "Bye\n"
     ]
    }
   ],
   "source": [
    "#Write a program to print elements of list that are not of multiple of 5 and is multiple of 7\n",
    "l = [10, 16,17,18,19,15,21,13]\n",
    "for x in l:\n",
    "    if x%5==0:\n",
    "        continue\n",
    "    if x%7==0:\n",
    "        break\n",
    "    print(x)\n",
    "print(\"Bye\")"
   ]
  },
  {
   "cell_type": "code",
   "execution_count": 2,
   "metadata": {},
   "outputs": [
    {
     "name": "stdout",
     "output_type": "stream",
     "text": [
      "1 2 3 4 5 6 7 8 9 10 \n",
      "2 4 6 8 10 12 14 16 18 20 \n",
      "3 6 9 12 15 18 21 24 27 30 \n"
     ]
    }
   ],
   "source": [
    "#Nested Loop: print tables of numbers from 1 to 10\n",
    "for i in range(1, 1*10+1, 1):\n",
    "    print (i, end = \" \")\n",
    "print()\n",
    "\n",
    "for i in range(2, 2*10+1, 2):\n",
    "    print(i, end = \" \")\n",
    "print()\n",
    "\n",
    "for i in range(3,3*10+1, 3):\n",
    "    print(i, end = \" \")\n",
    "print()\n",
    "#This code is too lenghthy\n",
    "# If we need to write table upto 10 then we can write the loops 7 more times\n",
    "# we can apply nested loops to do it in efficient way"
   ]
  },
  {
   "cell_type": "code",
   "execution_count": 3,
   "metadata": {},
   "outputs": [
    {
     "name": "stdout",
     "output_type": "stream",
     "text": [
      "1 2 3 4 5 6 7 8 9 10 \n",
      "2 4 6 8 10 12 14 16 18 20 \n",
      "3 6 9 12 15 18 21 24 27 30 \n",
      "4 8 12 16 20 24 28 32 36 40 \n",
      "5 10 15 20 25 30 35 40 45 50 \n",
      "6 12 18 24 30 36 42 48 54 60 \n",
      "7 14 21 28 35 42 49 56 63 70 \n",
      "8 16 24 32 40 48 56 64 72 80 \n",
      "9 18 27 36 45 54 63 72 81 90 \n",
      "10 20 30 40 50 60 70 80 90 100 \n"
     ]
    }
   ],
   "source": [
    "# Nested Loop Method for tables upto 10\n",
    "for i in range(1, 11):\n",
    "    for i in range(i, i*10+1, i):\n",
    "        print(i, end= \" \")\n",
    "    print()"
   ]
  },
  {
   "cell_type": "code",
   "execution_count": 7,
   "metadata": {},
   "outputs": [
    {
     "name": "stdout",
     "output_type": "stream",
     "text": [
      "Enter Number Here:3\n",
      "* * * \n",
      "* * * \n",
      "* * * \n"
     ]
    }
   ],
   "source": [
    "#Star Pattern based on user input\n",
    "n = int(input(\"Enter Number Here:\"))\n",
    "for i in range(n):3Outer for loop\n",
    "    for j in range(n):# inner for loop\n",
    "        print (\"*\", end = \" \")\n",
    "\n",
    "    print()#Empty Line\n",
    "    "
   ]
  },
  {
   "cell_type": "code",
   "execution_count": null,
   "metadata": {},
   "outputs": [],
   "source": [
    "      -----End of Program List----"
   ]
  }
 ],
 "metadata": {
  "kernelspec": {
   "display_name": "Python 3",
   "language": "python",
   "name": "python3"
  },
  "language_info": {
   "codemirror_mode": {
    "name": "ipython",
    "version": 3
   },
   "file_extension": ".py",
   "mimetype": "text/x-python",
   "name": "python",
   "nbconvert_exporter": "python",
   "pygments_lexer": "ipython3",
   "version": "3.7.0"
  }
 },
 "nbformat": 4,
 "nbformat_minor": 2
}
